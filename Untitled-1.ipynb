{
 "cells": [
  {
   "cell_type": "code",
   "execution_count": 6,
   "metadata": {},
   "outputs": [
    {
     "name": "stdout",
     "output_type": "stream",
     "text": [
      "SAMPLE List: ['1', '2', '4', '5', '6', '8', '9']\n",
      "Expected List: ['9', '2', '4', '5', '6', '8', '1']\n"
     ]
    }
   ],
   "source": [
    "#writea program to swap the frist and last elements of the list\n",
    "\n",
    "List=list(input(\"ENTER THE ELEMENTS IN THE LIST:\"))\n",
    "print(\"SAMPLE List:\",List)\n",
    "\n",
    "for i in range(len(List)):\n",
    "    temp=List[0]\n",
    "    List[0]=List[len(List)-1]\n",
    "    List[len(List)-1]=temp\n",
    "print(\"Expected List:\",List)\n"
   ]
  }
 ],
 "metadata": {
  "kernelspec": {
   "display_name": "Python 3",
   "language": "python",
   "name": "python3"
  },
  "language_info": {
   "codemirror_mode": {
    "name": "ipython",
    "version": 3
   },
   "file_extension": ".py",
   "mimetype": "text/x-python",
   "name": "python",
   "nbconvert_exporter": "python",
   "pygments_lexer": "ipython3",
   "version": "3.10.4"
  },
  "orig_nbformat": 4
 },
 "nbformat": 4,
 "nbformat_minor": 2
}
