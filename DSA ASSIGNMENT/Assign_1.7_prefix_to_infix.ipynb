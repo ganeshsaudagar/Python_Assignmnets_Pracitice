{
 "cells": [
  {
   "cell_type": "markdown",
   "metadata": {},
   "source": [
    "Q7. Write a program to convert prefix expression to infix expression."
   ]
  },
  {
   "cell_type": "code",
   "execution_count": 1,
   "metadata": {},
   "outputs": [
    {
     "name": "stdout",
     "output_type": "stream",
     "text": [
      "Prefix Expresssion: -ab\n",
      "Infix expression: (a-b)\n"
     ]
    }
   ],
   "source": [
    "def is_operator(char):\n",
    "    \"\"\"Check if a character is an operator.\"\"\"\n",
    "    return char in \"+-*/^\"\n",
    "\n",
    "def prefix_to_infix(expression):\n",
    "    \"\"\"Convert a prefix expression to an infix expression.\"\"\"\n",
    "    stack = []\n",
    "\n",
    "    for char in reversed(expression):\n",
    "        if is_operator(char):\n",
    "            operand1 = stack.pop()\n",
    "            operand2 = stack.pop()\n",
    "\n",
    "            infix_expression = '(' + operand1 + char + operand2 + ')'\n",
    "\n",
    "            stack.append(infix_expression)\n",
    "        else:\n",
    "            stack.append(char)\n",
    "\n",
    "    #return stack.pop()\n",
    "    result=\"\"\n",
    "    for i in stack:\n",
    "        result=result+i\n",
    "    return result\n",
    "prefix_expression = input(\"Enter the prefix expression: \")\n",
    "print('Prefix Expresssion:',prefix_expression)\n",
    "\n",
    "\n",
    "infix_expression = prefix_to_infix(prefix_expression)\n",
    "\n",
    "print(\"Infix expression:\", infix_expression)\n",
    "        \n",
    "    "
   ]
  }
 ],
 "metadata": {
  "kernelspec": {
   "display_name": "Python 3",
   "language": "python",
   "name": "python3"
  },
  "language_info": {
   "codemirror_mode": {
    "name": "ipython",
    "version": 3
   },
   "file_extension": ".py",
   "mimetype": "text/x-python",
   "name": "python",
   "nbconvert_exporter": "python",
   "pygments_lexer": "ipython3",
   "version": "3.10.4"
  },
  "orig_nbformat": 4
 },
 "nbformat": 4,
 "nbformat_minor": 2
}
