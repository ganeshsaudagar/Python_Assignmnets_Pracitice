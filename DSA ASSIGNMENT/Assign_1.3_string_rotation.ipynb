{
 "cells": [
  {
   "cell_type": "markdown",
   "metadata": {},
   "source": [
    "Q3. Write a program to check if two strings are a rotation of each other?"
   ]
  },
  {
   "cell_type": "code",
   "execution_count": 2,
   "metadata": {},
   "outputs": [
    {
     "name": "stdout",
     "output_type": "stream",
     "text": [
      "abcd\n",
      "bcda\n",
      "strings IN ROTATION\n"
     ]
    }
   ],
   "source": [
    "str1=input(\"ENTER FIRST STRING:\") #ABCD\n",
    "print(str1)\n",
    "str2=input(\"ENTER SECOND STRING:\") #CDAB\n",
    "print(str2)\n",
    "\n",
    "def rotation(str1,str2):\n",
    "    if len(str1)!=len(str2):\n",
    "        return False\n",
    "    else:\n",
    "        for i in range(len(str1)):\n",
    "            if str1[i]==str2[0]:\n",
    "                if str1[i:]==str2[:len(str1)-1]:\n",
    "                    if str1[:i]==str2[len(str1)-1]:\n",
    "                        return True\n",
    "    return False\n",
    "\n",
    "if rotation(str1,str2):\n",
    "    print(\"strings IN ROTATION\")\n",
    "else:\n",
    "    print('strings are NOT  in rotations')"
   ]
  }
 ],
 "metadata": {
  "kernelspec": {
   "display_name": "Python 3",
   "language": "python",
   "name": "python3"
  },
  "language_info": {
   "codemirror_mode": {
    "name": "ipython",
    "version": 3
   },
   "file_extension": ".py",
   "mimetype": "text/x-python",
   "name": "python",
   "nbconvert_exporter": "python",
   "pygments_lexer": "ipython3",
   "version": "3.10.4"
  },
  "orig_nbformat": 4
 },
 "nbformat": 4,
 "nbformat_minor": 2
}
