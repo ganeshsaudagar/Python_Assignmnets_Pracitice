{
 "cells": [
  {
   "cell_type": "markdown",
   "metadata": {},
   "source": [
    "Q4. Write a program to print the first non-repeated character from a string?"
   ]
  },
  {
   "cell_type": "code",
   "execution_count": 1,
   "metadata": {},
   "outputs": [
    {
     "name": "stdout",
     "output_type": "stream",
     "text": [
      "THE STRING: Ganesh\n",
      "The first non repetative character in the string is: G\n"
     ]
    }
   ],
   "source": [
    "str1=input(\"ENTER A STRING\")\n",
    "print(\"THE STRING:\",str1)\n",
    "Char=\"\"\n",
    "char_index=0\n",
    "for char in str1:\n",
    "     if str1.count(char)==1:\n",
    "         Char+=char\n",
    "         break\n",
    "     else:\n",
    "         char_index+=1\n",
    "\n",
    "if char_index==len(str1):\n",
    "    print(\"all the characters are repepattive\")\n",
    "else:\n",
    "    print(\"The first non repetative character in the string is:\",Char)\n",
    "   "
   ]
  }
 ],
 "metadata": {
  "kernelspec": {
   "display_name": "Python 3",
   "language": "python",
   "name": "python3"
  },
  "language_info": {
   "codemirror_mode": {
    "name": "ipython",
    "version": 3
   },
   "file_extension": ".py",
   "mimetype": "text/x-python",
   "name": "python",
   "nbconvert_exporter": "python",
   "pygments_lexer": "ipython3",
   "version": "3.10.4"
  },
  "orig_nbformat": 4
 },
 "nbformat": 4,
 "nbformat_minor": 2
}
