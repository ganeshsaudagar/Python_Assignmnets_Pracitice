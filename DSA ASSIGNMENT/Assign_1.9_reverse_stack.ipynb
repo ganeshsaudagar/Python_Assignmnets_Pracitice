{
 "cells": [
  {
   "cell_type": "code",
   "execution_count": 7,
   "metadata": {},
   "outputs": [
    {
     "name": "stdout",
     "output_type": "stream",
     "text": [
      "Original Stack\n",
      "5\n",
      "4\n",
      "3\n",
      "2\n",
      "1\n",
      "\n",
      "Stack after Reversing\n",
      "1\n",
      "2\n",
      "3\n",
      "4\n",
      "5\n"
     ]
    }
   ],
   "source": [
    "\n",
    "\n",
    "class Stack:\n",
    " \n",
    "    \n",
    "    def __init__(self):\n",
    "        self.Elements = []\n",
    "        \n",
    "    \n",
    "    def push(self, value):\n",
    "        self.Elements.append(value)\n",
    "       \n",
    "    \n",
    "    def pop(self):\n",
    "        return self.Elements.pop()\n",
    "     \n",
    "  \n",
    "    def empty(self):\n",
    "        return self.Elements == []\n",
    "     \n",
    "    \n",
    "    def show(self):\n",
    "        for value in reversed(self.Elements):\n",
    "            print(value)\n",
    " \n",
    "\n",
    "def BottomInsert(s, value):\n",
    "   \n",
    "    \n",
    "    if s.empty():\n",
    "       \n",
    "        s.push(value)\n",
    "   \n",
    "    else:\n",
    "        popped = s.pop()\n",
    "        BottomInsert(s, value)\n",
    "        s.push(popped)\n",
    " \n",
    "\n",
    "def Reverse(s):\n",
    "    if s.empty():\n",
    "        pass\n",
    "    else:\n",
    "        popped = s.pop()\n",
    "        Reverse(s)\n",
    "        BottomInsert(s, popped)\n",
    "\n",
    "stk = Stack()\n",
    " \n",
    "stk.push(input(\"enter number\"))\n",
    "stk.push(input(\"enter number\"))\n",
    "stk.push(input(\"enter number\"))\n",
    "stk.push(input(\"enter number\"))\n",
    "stk.push(input(\"enter number\"))\n",
    " \n",
    "print(\"Original Stack\")\n",
    "stk.show()\n",
    " \n",
    "print(\"\\nStack after Reversing\")\n",
    "Reverse(stk)\n",
    "stk.show()"
   ]
  }
 ],
 "metadata": {
  "kernelspec": {
   "display_name": "Python 3",
   "language": "python",
   "name": "python3"
  },
  "language_info": {
   "codemirror_mode": {
    "name": "ipython",
    "version": 3
   },
   "file_extension": ".py",
   "mimetype": "text/x-python",
   "name": "python",
   "nbconvert_exporter": "python",
   "pygments_lexer": "ipython3",
   "version": "3.10.4"
  },
  "orig_nbformat": 4
 },
 "nbformat": 4,
 "nbformat_minor": 2
}
