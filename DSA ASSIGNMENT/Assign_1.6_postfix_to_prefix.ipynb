{
 "cells": [
  {
   "cell_type": "markdown",
   "metadata": {},
   "source": [
    "Q6. Read about infix, prefix, and postfix expressions. Write a program to convert postfix to prefix expression"
   ]
  },
  {
   "cell_type": "code",
   "execution_count": 8,
   "metadata": {},
   "outputs": [
    {
     "name": "stdout",
     "output_type": "stream",
     "text": [
      "ab+cd-\n"
     ]
    },
    {
     "data": {
      "text/plain": [
       "'+ab-cd'"
      ]
     },
     "execution_count": 8,
     "metadata": {},
     "output_type": "execute_result"
    }
   ],
   "source": [
    "def is_operator(char):\n",
    "\n",
    "    if char in [\"-\",\"+\",\"*\",\"/\",\"^\"]:\n",
    "        return True\n",
    "    else:\n",
    "        return False\n",
    "def postfix_to_prefix(postfix_expression):\n",
    "    length=len(postfix_expression)\n",
    "    stack=[]\n",
    "    for char in range(length):\n",
    "        if is_operator(postfix_expression[char]):\n",
    "            op1=stack[-1]\n",
    "            stack.pop()\n",
    "            #print(\"op1\",op1)\n",
    "            op2=stack[-1]\n",
    "            stack.pop()\n",
    "            #print(\"op2\",op2)\n",
    "            stack.append(postfix_expression[char]+op2+op1)\n",
    "            #print(\"if part\",postfix_expression[char]+op2+op1)\n",
    "\n",
    "            #print(\"if part\",stack)\n",
    "        else:\n",
    "            stack.append(postfix_expression[char])\n",
    "            #print(\"else part\",postfix_expression[char])\n",
    "            #print(\"else part\",stack)\n",
    "    ans=\"\"\n",
    "    for char in stack:\n",
    "        ans=ans+char\n",
    "    return ans\n",
    "postfix=input(\"postfix expression:\")\n",
    "print(postfix)\n",
    "postfix_to_prefix(postfix)"
   ]
  }
 ],
 "metadata": {
  "kernelspec": {
   "display_name": "Python 3",
   "language": "python",
   "name": "python3"
  },
  "language_info": {
   "codemirror_mode": {
    "name": "ipython",
    "version": 3
   },
   "file_extension": ".py",
   "mimetype": "text/x-python",
   "name": "python",
   "nbconvert_exporter": "python",
   "pygments_lexer": "ipython3",
   "version": "3.10.4"
  },
  "orig_nbformat": 4
 },
 "nbformat": 4,
 "nbformat_minor": 2
}
