{
 "cells": [
  {
   "cell_type": "markdown",
   "metadata": {},
   "source": [
    "\n",
    "Q1. Write a program to find all pairs of an integer array whose sum is equal to a given number?"
   ]
  },
  {
   "cell_type": "code",
   "execution_count": 1,
   "metadata": {},
   "outputs": [
    {
     "name": "stdout",
     "output_type": "stream",
     "text": [
      "ARRAY: [4]\n",
      "SUM: 26\n",
      "ARRAY PAIRS HAVING SUM= 26 []\n"
     ]
    }
   ],
   "source": [
    "\n",
    "#Arrray=[12,14,12,45,12]\n",
    "Arrray=list(map(int,input(\"enter numbers\").split()))\n",
    "print(\"ARRAY:\",Arrray)\n",
    "number=26\n",
    "print(\"SUM:\",number)\n",
    "pair=[]\n",
    "index=[]\n",
    "\n",
    "for i in range(0,len(Arrray)):\n",
    "    for j in range(0,len(Arrray)):\n",
    "        sum=Arrray[i]+Arrray[j]\n",
    "        if number==sum:\n",
    "            x=[Arrray[i],Arrray[j]]\n",
    "            pair.append(x)\n",
    "            #print(pair)\n",
    "\n",
    "            #print(\"pair found at index\",i,j,\"PAIR:\",Arrray[i],Arrray[j],sum)\n",
    "print(\"ARRAY PAIRS HAVING SUM=\",number,pair)\n"
   ]
  }
 ],
 "metadata": {
  "kernelspec": {
   "display_name": "Python 3",
   "language": "python",
   "name": "python3"
  },
  "language_info": {
   "codemirror_mode": {
    "name": "ipython",
    "version": 3
   },
   "file_extension": ".py",
   "mimetype": "text/x-python",
   "name": "python",
   "nbconvert_exporter": "python",
   "pygments_lexer": "ipython3",
   "version": "3.10.4"
  },
  "orig_nbformat": 4
 },
 "nbformat": 4,
 "nbformat_minor": 2
}
