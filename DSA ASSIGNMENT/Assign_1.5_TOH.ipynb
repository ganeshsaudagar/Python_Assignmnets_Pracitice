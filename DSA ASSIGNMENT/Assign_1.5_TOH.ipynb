{
 "cells": [
  {
   "cell_type": "markdown",
   "metadata": {},
   "source": [
    "Q5. Read about the Tower of Hanoi algorithm. Write a program to implement it"
   ]
  },
  {
   "cell_type": "code",
   "execution_count": 17,
   "metadata": {},
   "outputs": [
    {
     "name": "stdout",
     "output_type": "stream",
     "text": [
      "MOVE DISC 1 from A TO C\n",
      "MOVE DISC 2 FROM A TO B\n",
      "MOVE DISC 1 from C TO B\n",
      "MOVE DISC 3 FROM A TO C\n",
      "MOVE DISC 1 from B TO A\n",
      "MOVE DISC 2 FROM B TO C\n",
      "MOVE DISC 1 from A TO C\n"
     ]
    }
   ],
   "source": [
    "def TOH(Disc_no,source,auxillary,destination):\n",
    "    if Disc_no==1:\n",
    "        print(\"MOVE DISC 1 from {} TO {}\".format(source,destination))\n",
    "        return\n",
    "    TOH(Disc_no-1,source,destination,auxillary)\n",
    "    print(\"MOVE DISC {} FROM {} TO {}\".format(Disc_no,source,destination))\n",
    "    TOH(Disc_no-1,auxillary,source,destination)\n",
    "\n",
    "n=3\n",
    "\n",
    "TOH(n,\"A\",\"B\",\"C\")\n",
    "\n",
    "\n"
   ]
  },
  {
   "cell_type": "code",
   "execution_count": null,
   "metadata": {},
   "outputs": [],
   "source": []
  }
 ],
 "metadata": {
  "kernelspec": {
   "display_name": "Python 3",
   "language": "python",
   "name": "python3"
  },
  "language_info": {
   "codemirror_mode": {
    "name": "ipython",
    "version": 3
   },
   "file_extension": ".py",
   "mimetype": "text/x-python",
   "name": "python",
   "nbconvert_exporter": "python",
   "pygments_lexer": "ipython3",
   "version": "3.10.4"
  },
  "orig_nbformat": 4
 },
 "nbformat": 4,
 "nbformat_minor": 2
}
