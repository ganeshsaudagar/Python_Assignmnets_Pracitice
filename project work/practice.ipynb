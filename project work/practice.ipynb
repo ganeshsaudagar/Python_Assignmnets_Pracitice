{
 "cells": [
  {
   "cell_type": "code",
   "execution_count": 2,
   "metadata": {},
   "outputs": [
    {
     "name": "stdout",
     "output_type": "stream",
     "text": [
      "Please ENTER CORRECT CREDENTIALS\n"
     ]
    },
    {
     "data": {
      "text/plain": [
       "<__main__.Food_Items at 0x21ad1312b90>"
      ]
     },
     "execution_count": 2,
     "metadata": {},
     "output_type": "execute_result"
    }
   ],
   "source": [
    "import json\n",
    "import random\n",
    "\n",
    "with open(\"admin.json\") as file:                         \n",
    "    data=json.load(file)\n",
    "    data1=data[0]\n",
    "    Admin_user=input(\"ENTER ADMIN USERNAME:\")\n",
    "    Admin_password=input(\"ENTER ADMIN PASSWORD:\")\n",
    "\n",
    "if data1[\"username\"]==Admin_user and data1[\"password\"]==Admin_password:\n",
    "    print(\"WELCOME ADMIN\",Admin_user.upper())\n",
    "    \n",
    "else:\n",
    "    print(\"Please ENTER CORRECT CREDENTIALS\")\n",
    "\n",
    "class Item_Details:\n",
    "    def __init__(self,foodid,name,qty,price,discount,stock):\n",
    "        self.foodid=random(100,999)\n",
    "        self.name=name\n",
    "        self.qty=qty\n",
    "        self.price=price\n",
    "        self.discount=discount\n",
    "        self.stock=stock\n",
    "\n",
    "class Food_Items:\n",
    "    def __init__(self):\n",
    "        self.food_items={}\n",
    "    def add_food_items(self):\n",
    "        name=input('enter name')\n",
    "        qty=input(\"enter qty\")\n",
    "        price=input(\"enter price\")\n",
    "        discount=input(\"enter discount\")\n",
    "        stock=input(\"enter stock\")\n",
    "\n",
    "        obj=Food_Items(name,qty,price,discount,stock)\n",
    "        obj.food_id=len(self.food_items+1)\n",
    "        self.add_food_items.append(obj)\n",
    "        print(self.food_items)\n",
    "        print(\"food items added successfully\")\n",
    "Food_Items()\n",
    "        \n",
    "\n",
    "\n",
    "\n",
    "\n",
    "\n",
    "\n",
    "\n",
    "\n",
    "\n",
    "\n"
   ]
  }
 ],
 "metadata": {
  "kernelspec": {
   "display_name": "Python 3",
   "language": "python",
   "name": "python3"
  },
  "language_info": {
   "codemirror_mode": {
    "name": "ipython",
    "version": 3
   },
   "file_extension": ".py",
   "mimetype": "text/x-python",
   "name": "python",
   "nbconvert_exporter": "python",
   "pygments_lexer": "ipython3",
   "version": "3.10.4"
  },
  "orig_nbformat": 4
 },
 "nbformat": 4,
 "nbformat_minor": 2
}
