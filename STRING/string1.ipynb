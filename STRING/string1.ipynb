{
 "cells": [
  {
   "cell_type": "code",
   "execution_count": 2,
   "metadata": {},
   "outputs": [
    {
     "name": "stdout",
     "output_type": "stream",
     "text": [
      "qA2\n",
      "True\n",
      "False\n",
      "False\n",
      "False\n",
      "False\n"
     ]
    }
   ],
   "source": [
    "if __name__ == '__main__':\n",
    "    s = input()\n",
    "    print(s)\n",
    "    print(s.isalnum())\n",
    "    print(s.isalpha())\n",
    "    print(s.isdigit())\n",
    "    print(s.islower())\n",
    "    print(s.isupper())"
   ]
  },
  {
   "cell_type": "code",
   "execution_count": 3,
   "metadata": {},
   "outputs": [
    {
     "name": "stdout",
     "output_type": "stream",
     "text": [
      "True\n",
      "True\n",
      "True\n",
      "True\n",
      "True\n"
     ]
    }
   ],
   "source": [
    "if __name__ == '__main__':\n",
    "    s = input()\n",
    "    print(any(map(str.isalnum, s)))   \n",
    "    print(any(map(str.isalpha, s)))\n",
    "    print(any(map(str.isdigit, s)))\n",
    "    print(any(map(str.islower, s)))\n",
    "    print(any(map(str.isupper, s)))"
   ]
  },
  {
   "cell_type": "code",
   "execution_count": 11,
   "metadata": {},
   "outputs": [
    {
     "name": "stdout",
     "output_type": "stream",
     "text": [
      "H----\n",
      "--Hh-\n"
     ]
    }
   ],
   "source": [
    "\"\"\"\n",
    ".ljust(width)\n",
    "\n",
    "This method returns a left aligned string of length width.\n",
    "\"\"\"\n",
    "width=5\n",
    "print(\"H\".ljust(width,'-'))\n",
    "print(\"HH\".center(width,'-'))\n"
   ]
  },
  {
   "cell_type": "code",
   "execution_count": 8,
   "metadata": {},
   "outputs": [
    {
     "name": "stdout",
     "output_type": "stream",
     "text": [
      "  H  \n",
      " HHH \n",
      "HHHHH\n"
     ]
    }
   ],
   "source": [
    "\"\"\"\n",
    ".center(width)\n",
    "\n",
    "This method returns a centered string of length width.\n",
    "\"\"\"\n",
    "width=5\n",
    "print(\"H\".center(width))\n",
    "print(\"HHH\".center(width))\n",
    "print(\"HHHHH\".center(width))"
   ]
  },
  {
   "cell_type": "code",
   "execution_count": 7,
   "metadata": {},
   "outputs": [
    {
     "name": "stdout",
     "output_type": "stream",
     "text": [
      "    H\n"
     ]
    }
   ],
   "source": [
    "\"\"\"\n",
    ".rjust(width)\n",
    "\n",
    "This method returns a right alighnedstring of length width.\n",
    "\"\"\"\n",
    "width=5\n",
    "print(\"H\".rjust(width))"
   ]
  },
  {
   "cell_type": "code",
   "execution_count": 14,
   "metadata": {},
   "outputs": [
    {
     "name": "stdout",
     "output_type": "stream",
     "text": [
      "  H  \n",
      " HHH \n",
      "HHHHH\n",
      " HHH         HHH        \n",
      " HHH         HHH        \n",
      " HHH         HHH        \n",
      " HHH         HHH        \n",
      " HHHHHHHHHHHHHHH  \n",
      " HHHHHHHHHHHHHHH  \n",
      " HHH         HHH        \n",
      " HHH         HHH        \n",
      " HHH         HHH        \n",
      " HHH         HHH        \n",
      "            HHHHH \n",
      "             HHH  \n",
      "              H   \n"
     ]
    }
   ],
   "source": [
    "thickness = int(input()) #This must be an odd number\n",
    "c = 'H'\n",
    "\n",
    "#Top Cone\n",
    "for i in range(thickness):\n",
    "    print((c*i).rjust(thickness-1)+c+(c*i).ljust(thickness-1))\n",
    "\n",
    "#Top Pillars\n",
    "for i in range(thickness+1):\n",
    "    print((c*thickness).center(thickness*2)+(c*thickness).center(thickness*6))\n",
    "\n",
    "#Middle Belt\n",
    "for i in range((thickness+1)//2):\n",
    "    print((c*thickness*5).center(thickness*6))    \n",
    "\n",
    "#Bottom Pillars\n",
    "for i in range(thickness+1):\n",
    "    print((c*thickness).center(thickness*2)+(c*thickness).center(thickness*6))    \n",
    "\n",
    "#Bottom Cone\n",
    "for i in range(thickness):\n",
    "    print(((c*(thickness-i-1)).rjust(thickness)+c+(c*(thickness-i-1)).ljust(thickness)).rjust(thickness*6))"
   ]
  },
  {
   "cell_type": "code",
   "execution_count": 15,
   "metadata": {},
   "outputs": [
    {
     "name": "stdout",
     "output_type": "stream",
     "text": [
      "  H  \n",
      " HHH \n",
      "HHHHH\n"
     ]
    }
   ],
   "source": [
    "thickness = int(input()) #This must be an odd number\n",
    "c = 'H'\n",
    "\n",
    "#Top Cone\n",
    "for i in range(thickness):\n",
    "    print((c*i).rjust(thickness-1)+c+(c*i).ljust(thickness-1))"
   ]
  },
  {
   "cell_type": "code",
   "execution_count": 17,
   "metadata": {},
   "outputs": [
    {
     "name": "stdout",
     "output_type": "stream",
     "text": [
      "   H   \n",
      "  HHH  \n",
      " HHHHH \n"
     ]
    }
   ],
   "source": [
    "thickness = int(input()) #This must be an odd number\n",
    "c = 'H'\n",
    "\n",
    "#Top Cone\n",
    "for i in range(thickness):\n",
    "    print((c*i).rjust(thickness-1)+c+(c*i).ljust(thickness))"
   ]
  },
  {
   "cell_type": "code",
   "execution_count": 6,
   "metadata": {},
   "outputs": [
    {
     "name": "stdout",
     "output_type": "stream",
     "text": [
      "     -\n",
      "   H -\n",
      "  HH -\n",
      " HHH -\n",
      "HHHH -\n"
     ]
    }
   ],
   "source": [
    "thickness = int(input()) #This must be an odd number\n",
    "c = 'H'\n",
    "\n",
    "#Top Cone\n",
    "for i in range(thickness):\n",
    "    print((c*i).rjust(thickness-1),'-')\n",
    "    #print(c)\n",
    "    #print((c*i).ljust(thickness))"
   ]
  },
  {
   "cell_type": "code",
   "execution_count": 5,
   "metadata": {},
   "outputs": [
    {
     "name": "stdout",
     "output_type": "stream",
     "text": [
      "    H\n",
      "   HH\n",
      "  HHH\n",
      " HHHH\n",
      "HHHHH\n"
     ]
    }
   ],
   "source": [
    "thickness = int(input()) #This must be an odd number\n",
    "c = 'H'\n",
    "\n",
    "#Top Cone\n",
    "for i in range(thickness):\n",
    "    print((c*i).rjust(thickness-1)+c)\n",
    "    #print(c)\n",
    "    #print((c*i).ljust(thickness))"
   ]
  }
 ],
 "metadata": {
  "kernelspec": {
   "display_name": "Python 3",
   "language": "python",
   "name": "python3"
  },
  "language_info": {
   "codemirror_mode": {
    "name": "ipython",
    "version": 3
   },
   "file_extension": ".py",
   "mimetype": "text/x-python",
   "name": "python",
   "nbconvert_exporter": "python",
   "pygments_lexer": "ipython3",
   "version": "3.10.4"
  },
  "orig_nbformat": 4
 },
 "nbformat": 4,
 "nbformat_minor": 2
}
