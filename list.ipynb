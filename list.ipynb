{
 "cells": [
  {
   "cell_type": "code",
   "execution_count": 1,
   "metadata": {},
   "outputs": [
    {
     "name": "stdout",
     "output_type": "stream",
     "text": [
      "SAMPLE List: ['1', '2', '4', '5']\n",
      "Expected List: ['1', '2', '4', '5']\n"
     ]
    }
   ],
   "source": [
    "#write a program to swap the frist and last elements of the list\n",
    "\n",
    "List=list(input(\"ENTER THE ELEMENTS IN THE LIST:\"))\n",
    "print(\"SAMPLE List:\",List)\n",
    "\n",
    "for i in range(len(List)):\n",
    "    temp=List[0]\n",
    "    List[0]=List[len(List)-1]\n",
    "    List[len(List)-1]=temp\n",
    "print(\"Expected List:\",List)\n"
   ]
  },
  {
   "cell_type": "code",
   "execution_count": 2,
   "metadata": {},
   "outputs": [
    {
     "name": "stdout",
     "output_type": "stream",
     "text": [
      "   1    1    1    1\n",
      "   2    2    2   10\n",
      "   3    3    3   11\n",
      "   4    4    4  100\n",
      "   5    5    5  101\n",
      "   6    6    6  110\n",
      "   7    7    7  111\n",
      "   8   10    8 1000\n",
      "   9   11    9 1001\n",
      "  10   12    A 1010\n",
      "  11   13    B 1011\n",
      "  12   14    C 1100\n",
      "  13   15    D 1101\n",
      "  14   16    E 1110\n"
     ]
    }
   ],
   "source": [
    "def print_formatted(number):\n",
    "\n",
    "    width = len(\"{0:b}\".format(number))\n",
    "\n",
    "    for i in range(1, number + 1):\n",
    "        print(\"{0:{w}d} {0:{w}o} {0:{w}X} {0:{w}b}\".format(i, w = width))\n",
    "\n",
    "if __name__ == '__main__':\n",
    "    n = int(input())\n",
    "    print_formatted(n)"
   ]
  },
  {
   "cell_type": "code",
   "execution_count": 32,
   "metadata": {},
   "outputs": [
    {
     "ename": "ValueError",
     "evalue": "invalid literal for int() with base 10: ''",
     "output_type": "error",
     "traceback": [
      "\u001b[1;31m---------------------------------------------------------------------------\u001b[0m",
      "\u001b[1;31mValueError\u001b[0m                                Traceback (most recent call last)",
      "\u001b[1;32mc:\\Users\\Ganesh\\Documents\\GitHub\\Python_Assignmnets_Pracitice\\list.ipynb Cell 3\u001b[0m line \u001b[0;36m<cell line: 8>\u001b[1;34m()\u001b[0m\n\u001b[0;32m      <a href='vscode-notebook-cell:/c%3A/Users/Ganesh/Documents/GitHub/Python_Assignmnets_Pracitice/list.ipynb#W2sZmlsZQ%3D%3D?line=5'>6</a>\u001b[0m         \u001b[39mprint\u001b[39m(\u001b[39m\"\u001b[39m\u001b[39m{\u001b[39m\u001b[39m0:\u001b[39m\u001b[39m{w}\u001b[39;00m\u001b[39md} \u001b[39m\u001b[39m{\u001b[39m\u001b[39m0:\u001b[39m\u001b[39m{w}\u001b[39;00m\u001b[39mo} \u001b[39m\u001b[39m{\u001b[39m\u001b[39m0:\u001b[39m\u001b[39m{w}\u001b[39;00m\u001b[39mX} \u001b[39m\u001b[39m{\u001b[39m\u001b[39m0:\u001b[39m\u001b[39m{w}\u001b[39;00m\u001b[39mb}\u001b[39m\u001b[39m\"\u001b[39m\u001b[39m.\u001b[39mformat(i, w \u001b[39m=\u001b[39m width))\n\u001b[0;32m      <a href='vscode-notebook-cell:/c%3A/Users/Ganesh/Documents/GitHub/Python_Assignmnets_Pracitice/list.ipynb#W2sZmlsZQ%3D%3D?line=7'>8</a>\u001b[0m \u001b[39mif\u001b[39;00m \u001b[39m__name__\u001b[39m \u001b[39m==\u001b[39m \u001b[39m'\u001b[39m\u001b[39m__main__\u001b[39m\u001b[39m'\u001b[39m:\n\u001b[1;32m----> <a href='vscode-notebook-cell:/c%3A/Users/Ganesh/Documents/GitHub/Python_Assignmnets_Pracitice/list.ipynb#W2sZmlsZQ%3D%3D?line=8'>9</a>\u001b[0m     n \u001b[39m=\u001b[39m \u001b[39mint\u001b[39;49m(\u001b[39minput\u001b[39;49m())\n\u001b[0;32m     <a href='vscode-notebook-cell:/c%3A/Users/Ganesh/Documents/GitHub/Python_Assignmnets_Pracitice/list.ipynb#W2sZmlsZQ%3D%3D?line=9'>10</a>\u001b[0m     print_formatted(n)\n",
      "\u001b[1;31mValueError\u001b[0m: invalid literal for int() with base 10: ''"
     ]
    }
   ],
   "source": [
    "def print_formatted(number):\n",
    "\n",
    "    width = len(\"{0:b}\".format(number))\n",
    "\n",
    "    for i in range(1, number + 1):\n",
    "        print(\"{0:{w}d} {0:{w}o} {0:{w}X} {0:{w}b}\".format(i, w = width))\n",
    "\n",
    "if __name__ == '__main__':\n",
    "    n = int(input())\n",
    "    print_formatted(n)"
   ]
  },
  {
   "cell_type": "code",
   "execution_count": 16,
   "metadata": {},
   "outputs": [
    {
     "name": "stdout",
     "output_type": "stream",
     "text": [
      "111000 <class 'str'>\n",
      "6\n"
     ]
    }
   ],
   "source": [
    "number=56\n",
    "y=((\"{0:b}\").format(number))\n",
    "type(y)\n",
    "print(y,type(y))\n",
    "x=len((\"{0:b}\").format(number))\n",
    "print(x)"
   ]
  },
  {
   "cell_type": "code",
   "execution_count": 17,
   "metadata": {},
   "outputs": [
    {
     "name": "stdout",
     "output_type": "stream",
     "text": [
      "  1   1   1   1\n",
      "  2   2   2  10\n",
      "  3   3   3  11\n",
      "  4   4   4 100\n",
      "  5   5   5 101\n",
      "  6   6   6 110\n"
     ]
    }
   ],
   "source": [
    "number = 6  # for example\n",
    "width = len(\"{0:b}\".format(number))\n",
    "\n",
    "for i in range(1, number + 1):\n",
    "    print(\"{0:{w}d} {0:{w}o} {0:{w}X} {0:{w}b}\".format(i, w=width))"
   ]
  },
  {
   "cell_type": "code",
   "execution_count": 21,
   "metadata": {},
   "outputs": [
    {
     "name": "stdout",
     "output_type": "stream",
     "text": [
      "hi! nice to meet  you\n"
     ]
    }
   ],
   "source": [
    "x = 'hi'\n",
    "string_test = \"{0}! nice to meet  you\".format(x)\n",
    "print(string_test)\n",
    "# outputs > hi! nice to meet you"
   ]
  },
  {
   "cell_type": "code",
   "execution_count": 23,
   "metadata": {},
   "outputs": [
    {
     "name": "stdout",
     "output_type": "stream",
     "text": [
      "10111! nice to meet  you\n"
     ]
    }
   ],
   "source": [
    "x = 23\n",
    "string_test = \"{0:b}! nice to meet  you\".format(x)\n",
    "print(string_test)\n",
    "# outputs > hi! nice to meet you"
   ]
  },
  {
   "cell_type": "code",
   "execution_count": 24,
   "metadata": {},
   "outputs": [
    {
     "name": "stdout",
     "output_type": "stream",
     "text": [
      "27! nice to meet  you\n"
     ]
    }
   ],
   "source": [
    "x = 23\n",
    "string_test = \"{0:o}! nice to meet  you\".format(x)\n",
    "print(string_test)\n",
    "# outputs > hi! nice to meet you"
   ]
  },
  {
   "cell_type": "code",
   "execution_count": 28,
   "metadata": {},
   "outputs": [
    {
     "name": "stdout",
     "output_type": "stream",
     "text": [
      "17! nice to meet  you\n"
     ]
    }
   ],
   "source": [
    "x = 23\n",
    "string_test = \"{0:X}! nice to meet  you\".format(x)\n",
    "print(string_test)\n",
    "# outputs > hi! nice to meet you"
   ]
  }
 ],
 "metadata": {
  "kernelspec": {
   "display_name": "Python 3",
   "language": "python",
   "name": "python3"
  },
  "language_info": {
   "codemirror_mode": {
    "name": "ipython",
    "version": 3
   },
   "file_extension": ".py",
   "mimetype": "text/x-python",
   "name": "python",
   "nbconvert_exporter": "python",
   "pygments_lexer": "ipython3",
   "version": "3.10.4"
  },
  "orig_nbformat": 4
 },
 "nbformat": 4,
 "nbformat_minor": 2
}
