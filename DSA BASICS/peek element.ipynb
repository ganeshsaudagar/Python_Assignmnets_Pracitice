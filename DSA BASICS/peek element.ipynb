{
 "cells": [
  {
   "cell_type": "code",
   "execution_count": 14,
   "metadata": {},
   "outputs": [
    {
     "name": "stdout",
     "output_type": "stream",
     "text": [
      "<class 'list'>\n",
      "[15, 4548, 48, 84, 722]\n"
     ]
    },
    {
     "ename": "IndexError",
     "evalue": "list index out of range",
     "output_type": "error",
     "traceback": [
      "\u001b[1;31m---------------------------------------------------------------------------\u001b[0m",
      "\u001b[1;31mIndexError\u001b[0m                                Traceback (most recent call last)",
      "\u001b[1;32mc:\\Users\\Ganesh\\Documents\\GitHub\\Python_Assignmnets_Pracitice\\DSA BASICS\\peek element.ipynb Cell 1\u001b[0m line \u001b[0;36m<cell line: 5>\u001b[1;34m()\u001b[0m\n\u001b[0;32m      <a href='vscode-notebook-cell:/c%3A/Users/Ganesh/Documents/GitHub/Python_Assignmnets_Pracitice/DSA%20BASICS/peek%20element.ipynb#W0sZmlsZQ%3D%3D?line=3'>4</a>\u001b[0m peak\u001b[39m=\u001b[39m[]\n\u001b[0;32m      <a href='vscode-notebook-cell:/c%3A/Users/Ganesh/Documents/GitHub/Python_Assignmnets_Pracitice/DSA%20BASICS/peek%20element.ipynb#W0sZmlsZQ%3D%3D?line=4'>5</a>\u001b[0m \u001b[39mfor\u001b[39;00m i \u001b[39min\u001b[39;00m \u001b[39mrange\u001b[39m(\u001b[39mlen\u001b[39m(Array)):\n\u001b[0;32m      <a href='vscode-notebook-cell:/c%3A/Users/Ganesh/Documents/GitHub/Python_Assignmnets_Pracitice/DSA%20BASICS/peek%20element.ipynb#W0sZmlsZQ%3D%3D?line=5'>6</a>\u001b[0m     \u001b[39m#for first element\u001b[39;00m\n\u001b[1;32m----> <a href='vscode-notebook-cell:/c%3A/Users/Ganesh/Documents/GitHub/Python_Assignmnets_Pracitice/DSA%20BASICS/peek%20element.ipynb#W0sZmlsZQ%3D%3D?line=6'>7</a>\u001b[0m     \u001b[39mif\u001b[39;00m Array[i]\u001b[39m>\u001b[39mArray[i\u001b[39m+\u001b[39;49m\u001b[39m1\u001b[39;49m]:\n\u001b[0;32m      <a href='vscode-notebook-cell:/c%3A/Users/Ganesh/Documents/GitHub/Python_Assignmnets_Pracitice/DSA%20BASICS/peek%20element.ipynb#W0sZmlsZQ%3D%3D?line=7'>8</a>\u001b[0m         peak\u001b[39m.\u001b[39mappend(Array[i])\n\u001b[0;32m      <a href='vscode-notebook-cell:/c%3A/Users/Ganesh/Documents/GitHub/Python_Assignmnets_Pracitice/DSA%20BASICS/peek%20element.ipynb#W0sZmlsZQ%3D%3D?line=8'>9</a>\u001b[0m     \u001b[39melif\u001b[39;00m Array[\u001b[39mlen\u001b[39m(Array)\u001b[39m-\u001b[39m\u001b[39m1\u001b[39m] \u001b[39m>\u001b[39mArray[\u001b[39mlen\u001b[39m(Array)\u001b[39m-\u001b[39m\u001b[39m2\u001b[39m]:\n",
      "\u001b[1;31mIndexError\u001b[0m: list index out of range"
     ]
    }
   ],
   "source": [
    "Array=[15,4548,48,84,722]\n",
    "print(type(Array))\n",
    "print(Array)\n",
    "peak=[]\n",
    "for i in range(len(Array)):\n",
    "    #for first element\n",
    "    if Array[i]>Array[i+1]:\n",
    "        peak.append(Array[i])\n",
    "    elif Array[len(Array)-1] >Array[len(Array)-2]:\n",
    "        peak.append(Array[len(Array)-2])\n",
    "    elif  Array[i]>Array[i+1] and Array[i]>Array[i-1]:\n",
    "        peak.append(Array[i])\n",
    "\n",
    "print(peak)\n",
    "        \n",
    "\n",
    "\n"
   ]
  },
  {
   "cell_type": "code",
   "execution_count": 16,
   "metadata": {},
   "outputs": [
    {
     "name": "stdout",
     "output_type": "stream",
     "text": [
      "<class 'list'>\n",
      "[15, 4548, 48, 84, 722]\n",
      "[722]\n"
     ]
    }
   ],
   "source": [
    "Array=[15,4548,48,84,722]\n",
    "print(type(Array))\n",
    "print(Array)\n",
    "low=0\n",
    "high=len(Array)-1\n",
    "peak=[]\n",
    "if Array[low]>Array[low+1]:\n",
    "    peak.append(Array[low])\n",
    "\n",
    "elif Array[high]>Array[high-1]:\n",
    "    peak.append(Array[high])\n",
    "\n",
    "\n",
    "\n",
    "\n",
    "print(peak)\n",
    "        \n",
    "\n"
   ]
  },
  {
   "cell_type": "code",
   "execution_count": 6,
   "metadata": {},
   "outputs": [
    {
     "name": "stderr",
     "output_type": "stream",
     "text": [
      "<>:1: SyntaxWarning: 'set' object is not callable; perhaps you missed a comma?\n",
      "<>:1: SyntaxWarning: 'set' object is not callable; perhaps you missed a comma?\n",
      "C:\\Users\\Ganesh\\AppData\\Local\\Temp\\ipykernel_11048\\4101867630.py:1: SyntaxWarning: 'set' object is not callable; perhaps you missed a comma?\n",
      "  lst=map([(1)*{5}(2/5)-(18*8)]).split()\n",
      "C:\\Users\\Ganesh\\AppData\\Local\\Temp\\ipykernel_11048\\4101867630.py:1: SyntaxWarning: 'set' object is not callable; perhaps you missed a comma?\n",
      "  lst=map([(1)*{5}(2/5)-(18*8)]).split()\n",
      "C:\\Users\\Ganesh\\AppData\\Local\\Temp\\ipykernel_11048\\4101867630.py:1: SyntaxWarning: 'set' object is not callable; perhaps you missed a comma?\n",
      "  lst=map([(1)*{5}(2/5)-(18*8)]).split()\n",
      "C:\\Users\\Ganesh\\AppData\\Local\\Temp\\ipykernel_11048\\4101867630.py:1: SyntaxWarning: 'set' object is not callable; perhaps you missed a comma?\n",
      "  lst=map([(1)*{5}(2/5)-(18*8)]).split()\n",
      "C:\\Users\\Ganesh\\AppData\\Local\\Temp\\ipykernel_11048\\4101867630.py:1: SyntaxWarning: 'set' object is not callable; perhaps you missed a comma?\n",
      "  lst=map([(1)*{5}(2/5)-(18*8)]).split()\n"
     ]
    },
    {
     "ename": "TypeError",
     "evalue": "'set' object is not callable",
     "output_type": "error",
     "traceback": [
      "\u001b[1;31m---------------------------------------------------------------------------\u001b[0m",
      "\u001b[1;31mTypeError\u001b[0m                                 Traceback (most recent call last)",
      "\u001b[1;32mc:\\Users\\Ganesh\\Documents\\GitHub\\Python_Assignmnets_Pracitice\\DSA BASICS\\peek element.ipynb Cell 2\u001b[0m line \u001b[0;36m<cell line: 1>\u001b[1;34m()\u001b[0m\n\u001b[1;32m----> <a href='vscode-notebook-cell:/c%3A/Users/Ganesh/Documents/GitHub/Python_Assignmnets_Pracitice/DSA%20BASICS/peek%20element.ipynb#W4sZmlsZQ%3D%3D?line=0'>1</a>\u001b[0m lst\u001b[39m=\u001b[39m\u001b[39mmap\u001b[39m([(\u001b[39m1\u001b[39m)\u001b[39m*\u001b[39m{\u001b[39m5\u001b[39;49m}(\u001b[39m2\u001b[39;49m\u001b[39m/\u001b[39;49m\u001b[39m5\u001b[39;49m)\u001b[39m-\u001b[39m(\u001b[39m18\u001b[39m\u001b[39m*\u001b[39m\u001b[39m8\u001b[39m)])\u001b[39m.\u001b[39msplit()\n\u001b[0;32m      <a href='vscode-notebook-cell:/c%3A/Users/Ganesh/Documents/GitHub/Python_Assignmnets_Pracitice/DSA%20BASICS/peek%20element.ipynb#W4sZmlsZQ%3D%3D?line=1'>2</a>\u001b[0m \u001b[39mfor\u001b[39;00m i \u001b[39min\u001b[39;00m lst:\n\u001b[0;32m      <a href='vscode-notebook-cell:/c%3A/Users/Ganesh/Documents/GitHub/Python_Assignmnets_Pracitice/DSA%20BASICS/peek%20element.ipynb#W4sZmlsZQ%3D%3D?line=2'>3</a>\u001b[0m     \u001b[39mprint\u001b[39m(i)\n",
      "\u001b[1;31mTypeError\u001b[0m: 'set' object is not callable"
     ]
    }
   ],
   "source": [
    "lst=map([(1)*{5}(2/5)-(18*8)]).split()\n",
    "for i in lst:\n",
    "    print(i)\n"
   ]
  },
  {
   "cell_type": "code",
   "execution_count": 1,
   "metadata": {},
   "outputs": [
    {
     "name": "stdout",
     "output_type": "stream",
     "text": [
      "5\n"
     ]
    }
   ],
   "source": [
    "class Solution(object):\n",
    "   def findPeakElement(self, nums):\n",
    "      low = 0\n",
    "      high = len(nums)-1\n",
    "      while low<high:\n",
    "         mid = low + (high - low+1)//2\n",
    "         if (mid-1>=0 and nums[mid-1]<=nums[mid]):\n",
    "            low = mid\n",
    "         else:\n",
    "            high = mid-1\n",
    "      return nums[low+1]\n",
    "ob1 = Solution()\n",
    "print(ob1.findPeakElement([15,35,85,96,5,6,8,12]))"
   ]
  },
  {
   "cell_type": "code",
   "execution_count": null,
   "metadata": {},
   "outputs": [],
   "source": [
    "def findPeakUtil(arr, lowerBound, upperBound, n):\n",
    "\t\n",
    "    # Find the middle index\n",
    "\tmid = lowerBound + (upperBound - lowerBound)/2\n",
    "\tmid = int(mid)\n",
    "\t\n",
    "\t# Compare middle element with its\n",
    "\t# neighbours\n",
    "\tif ((mid == 0 or arr[mid - 1] <= arr[mid]) and\n",
    "\t\t(mid == n - 1 or arr[mid + 1] <= arr[mid])):\n",
    "\t\treturn mid\n",
    "\n",
    "\n",
    "\telif (mid > 0 and arr[mid + 1] > arr[mid]):\n",
    "\t\treturn findPeakUtil(arr, (mid + 1), upperBound, n)\n",
    "\n",
    "\telse:\n",
    "\t\treturn findPeakUtil(arr, lowerBound, (mid - 1), n)\n",
    "\n",
    "\n",
    "arr = [10, 20, 15, 2, 23, 90, 67]\n",
    "n = len(arr)\n",
    "print(\"The peak point is\", arr[findPeakUtil(arr, 0, n - 1, n)])"
   ]
  }
 ],
 "metadata": {
  "kernelspec": {
   "display_name": "Python 3",
   "language": "python",
   "name": "python3"
  },
  "language_info": {
   "codemirror_mode": {
    "name": "ipython",
    "version": 3
   },
   "file_extension": ".py",
   "mimetype": "text/x-python",
   "name": "python",
   "nbconvert_exporter": "python",
   "pygments_lexer": "ipython3",
   "version": "3.10.4"
  },
  "orig_nbformat": 4
 },
 "nbformat": 4,
 "nbformat_minor": 2
}
