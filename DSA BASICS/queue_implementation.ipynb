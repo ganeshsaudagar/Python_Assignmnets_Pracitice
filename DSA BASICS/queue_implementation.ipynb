{
 "cells": [
  {
   "cell_type": "markdown",
   "metadata": {},
   "source": [
    "QUEUE:FIRST IN FIRST OUT\n",
    "queue is linear data structure which follows the priciple of FIRST IN FIRST OUT(FIFO)\n",
    "The element that got added first wwill be removed first.\n",
    "it is open at both the ends .the end from where we add element is called  tail,and  remove element is called head.\n",
    "\n",
    "basic operation:\n",
    "creating queue\n",
    "enQueue:adding the new elements to the queue (at th tail)\n",
    "deQueue:removing the element from   the queue(at start or end)\n",
    "peek in queue:for finding the peek element in the queue\n",
    "isempty:\n",
    "isfull\"\n",
    "delete queue:for making the queue empty\n",
    "\n"
   ]
  },
  {
   "cell_type": "code",
   "execution_count": 2,
   "metadata": {},
   "outputs": [
    {
     "data": {
      "text/plain": [
       "[]"
      ]
     },
     "execution_count": 2,
     "metadata": {},
     "output_type": "execute_result"
    }
   ],
   "source": [
    "class queue:\n",
    "    def __init__(self,length):\n",
    "        self.queue=[]\n",
    "        self.maxlength=length\n",
    "        self.size=0\n",
    "\n",
    "    def Enqueue(self,element):\n",
    "        if self.size==self.maxlength:\n",
    "            print(\"queue is full\")\n",
    "        else:\n",
    "            if self.size==0:\n",
    "                self.queue.append(element)\n",
    "                self.size+=1\n",
    "                print(\"added\")\n",
    "            else:\n",
    "                if type(self.queue[0]==type(element)):\n",
    "                    self.queue.append(element)\n",
    "                    self.size+=1\n",
    "                    print('added')\n",
    "                else:\n",
    "                    print('added')\n",
    "\n",
    "    def Dequeue(self,element):\n",
    "        if self.size > 0:\n",
    "            self.queue.remove(element)\n",
    "        else:\n",
    "            print(\"queue is empty\")\n",
    "\n",
    "    def Display(self):\n",
    "        return self.queue\n",
    "    \n",
    "    def peek_in_queue(self):\n",
    "        return self.queue[0]\n",
    "    \n",
    "    def delete(self):\n",
    "        if self.size==0:\n",
    "            print(\"quue is emply\")\n",
    "        else:\n",
    "            while self.size !=0:\n",
    "                self.queue.pop()\n",
    "    \n",
    "\n",
    "obj=queue(5)\n",
    "obj.Display()\n"
   ]
  },
  {
   "cell_type": "code",
   "execution_count": 5,
   "metadata": {},
   "outputs": [
    {
     "name": "stdout",
     "output_type": "stream",
     "text": [
      "added\n"
     ]
    },
    {
     "data": {
      "text/plain": [
       "[150, 150, 114]"
      ]
     },
     "execution_count": 5,
     "metadata": {},
     "output_type": "execute_result"
    }
   ],
   "source": [
    "obj.Enqueue(114)\n",
    "obj.Display()"
   ]
  },
  {
   "cell_type": "code",
   "execution_count": 6,
   "metadata": {},
   "outputs": [
    {
     "data": {
      "text/plain": [
       "[150, 150]"
      ]
     },
     "execution_count": 6,
     "metadata": {},
     "output_type": "execute_result"
    }
   ],
   "source": [
    "obj.Dequeue(114)\n",
    "obj.Display()"
   ]
  }
 ],
 "metadata": {
  "kernelspec": {
   "display_name": "Python 3",
   "language": "python",
   "name": "python3"
  },
  "language_info": {
   "codemirror_mode": {
    "name": "ipython",
    "version": 3
   },
   "file_extension": ".py",
   "mimetype": "text/x-python",
   "name": "python",
   "nbconvert_exporter": "python",
   "pygments_lexer": "ipython3",
   "version": "3.10.4"
  },
  "orig_nbformat": 4
 },
 "nbformat": 4,
 "nbformat_minor": 2
}
