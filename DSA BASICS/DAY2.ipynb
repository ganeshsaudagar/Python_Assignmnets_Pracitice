{
 "cells": [
  {
   "cell_type": "markdown",
   "metadata": {},
   "source": []
  },
  {
   "cell_type": "markdown",
   "metadata": {},
   "source": [
    "Data Structures and algorithm:\n",
    "It is way to  organized data that enables it to be processed  in an efficient time.\n",
    "commonly used data structures are linked lists ,arrays,  stacks ,ques  trees  heaps"
   ]
  },
  {
   "cell_type": "markdown",
   "metadata": {},
   "source": [
    "Algorithm:its set of rules to be follwed to solved our problem.\n",
    "to solve that  problem  we will be using data structure.\n",
    "\n",
    "DATA STRUCTURE IS FOR ORGANISING THE DATA AND ALGORITHM IS SET OF RULES.\n",
    "1.premitive:dont need any data type \n",
    "2.non premitive:\n",
    "1.physical :Array ,linked list\n",
    "2.logical:stack ,queue,tree,gaph\n",
    "\n",
    "Non premitive again has two types:\n",
    "1.linear data structure:data elements arranged  in linear or sequential \n",
    "\n",
    "2.non linear data structure:trees,graph"
   ]
  },
  {
   "cell_type": "markdown",
   "metadata": {},
   "source": [
    "why so many DS?\n",
    "\n",
    "each DS has its own proprty\n",
    "this property is unique\n",
    "based on the problem statement we used DS.\n"
   ]
  },
  {
   "cell_type": "markdown",
   "metadata": {},
   "source": [
    "ARRAY:its collection of homogenious elements\n",
    "elements are stored in continuos memory location.so its faster than list.\n",
    "every cell of array has unique index\n",
    "we can not specify the length of an array in python and java\n",
    "\n",
    "Need of Array?\n",
    "if we have huge data.we can stored data in arrays\n",
    "\n",
    "types of an Array\n",
    "1 dimensional Array:  e.g [1,2,3,4]\n",
    "\n",
    "2.multi dimensional Arry:[1,2,3],[2,3,5],[5,6,8]\n",
    "\n",
    "example:"
   ]
  },
  {
   "cell_type": "markdown",
   "metadata": {},
   "source": [
    "common operation of Array:\n",
    "\n",
    "traversing the array:going one by one of eache element of array\n",
    "insertingvalue\n",
    "accessing searching  deleting value\n",
    "\n",
    "\n"
   ]
  }
 ],
 "metadata": {
  "language_info": {
   "name": "python"
  },
  "orig_nbformat": 4
 },
 "nbformat": 4,
 "nbformat_minor": 2
}
