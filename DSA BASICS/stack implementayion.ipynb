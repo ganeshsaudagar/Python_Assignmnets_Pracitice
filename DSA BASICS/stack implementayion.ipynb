{
 "cells": [
  {
   "cell_type": "code",
   "execution_count": 4,
   "metadata": {},
   "outputs": [
    {
     "data": {
      "text/plain": [
       "[]"
      ]
     },
     "execution_count": 4,
     "metadata": {},
     "output_type": "execute_result"
    }
   ],
   "source": [
    "#implementation of stack data structure using array\n",
    "\n",
    "class Array:\n",
    "    def __init__(self,length):\n",
    "        self.array=[]\n",
    "        self.maxlength=length\n",
    "        self.size=0\n",
    "\n",
    "    def add(self,element):\n",
    "        if self.is_full():\n",
    "            print(\"array is full\")\n",
    "        else:\n",
    "            if self.size==0:\n",
    "                self.array.append(element)\n",
    "                self.size+=1\n",
    "                print(\"added\")\n",
    "            else:\n",
    "                if type(element)==type(self.array[0]):\n",
    "                    self.array.append(element)\n",
    "                    self.size+=1\n",
    "                    print(\"added\")\n",
    "                else:\n",
    "                    print(\"type of the element mismatched\")\n",
    "\n",
    "    def is_full(self):\n",
    "        if self.size==self.maxlength:\n",
    "            return True\n",
    "        else:\n",
    "            return False\n",
    "        \n",
    "    def display(self):\n",
    "        return self.array\n",
    "    \n",
    "    def Delete(self,element):\n",
    "        if element in self.array:\n",
    "            self.array.remove(element)\n",
    "        else:\n",
    "            print(\"element,not in the array\")\n",
    "\n",
    "    def update(self,index,element):\n",
    "        if index < self.size-1:\n",
    "            self.array[index]=element\n",
    "        else:\n",
    "            print(\"index out of range\")\n",
    "    \n",
    "    def remove_by_index(self,index):\n",
    "    \n",
    "        if index <= self.size-1:\n",
    "            self.array.remove(self.array[index])\n",
    "            self.size-=1\n",
    "        else :\n",
    "            print(\"index out of range\")\n",
    "    def find(self,element):\n",
    "        if element in self.array:\n",
    "            return self.array.index(element)\n",
    "        else:\n",
    "            print(\"element not in the array\")\n",
    "\n",
    "obj=Array(5)\n",
    "obj.display()\n"
   ]
  },
  {
   "cell_type": "code",
   "execution_count": 5,
   "metadata": {},
   "outputs": [
    {
     "data": {
      "text/plain": [
       "[]"
      ]
     },
     "execution_count": 5,
     "metadata": {},
     "output_type": "execute_result"
    }
   ],
   "source": [
    "class Stack:\n",
    "    def __init__(self,length):\n",
    "        self.stack=Array(length)\n",
    "\n",
    "    def push(self,element):\n",
    "        result=self.stack.add(element)\n",
    "        if result:\n",
    "            print(\"added\")\n",
    "        else:\n",
    "            print(\"not added\")\n",
    "\n",
    "    def pop(self,element):\n",
    "        result=self.stack.remove_by_index(self.stack.size-1)\n",
    "        if result:\n",
    "            print(\"removed\")\n",
    "        else:\n",
    "            print('not removed')\n",
    "    def display(self):\n",
    "        return self.stack.display()\n",
    "    def is_empty(self):\n",
    "        if self.stack.size==0:\n",
    "            print(\"stack empty\")\n",
    "            return True\n",
    "        else:\n",
    "            return False\n",
    "    def is_full(self):\n",
    "        self.is_full()\n",
    "    def peek(self):\n",
    "        if self.stack.is_empty():\n",
    "            print(\"stack is empty\")\n",
    "        else:\n",
    "            return self.stack[-1]\n",
    "obj=Stack(5)\n",
    "obj.display()\n",
    "        \n"
   ]
  },
  {
   "cell_type": "code",
   "execution_count": 10,
   "metadata": {},
   "outputs": [
    {
     "name": "stdout",
     "output_type": "stream",
     "text": [
      "added\n",
      "not added\n"
     ]
    },
    {
     "data": {
      "text/plain": [
       "[15, 15, 15, 15, 15]"
      ]
     },
     "execution_count": 10,
     "metadata": {},
     "output_type": "execute_result"
    }
   ],
   "source": [
    "obj.push(15)\n",
    "obj.display()"
   ]
  },
  {
   "cell_type": "code",
   "execution_count": 11,
   "metadata": {},
   "outputs": [
    {
     "name": "stdout",
     "output_type": "stream",
     "text": [
      "not removed\n"
     ]
    },
    {
     "data": {
      "text/plain": [
       "[15, 15, 15, 15]"
      ]
     },
     "execution_count": 11,
     "metadata": {},
     "output_type": "execute_result"
    }
   ],
   "source": [
    "obj.pop(15)\n",
    "obj.display()"
   ]
  },
  {
   "cell_type": "code",
   "execution_count": 12,
   "metadata": {},
   "outputs": [
    {
     "ename": "AttributeError",
     "evalue": "'Array' object has no attribute 'is_empty'",
     "output_type": "error",
     "traceback": [
      "\u001b[1;31m---------------------------------------------------------------------------\u001b[0m",
      "\u001b[1;31mAttributeError\u001b[0m                            Traceback (most recent call last)",
      "\u001b[1;32mc:\\Users\\Ganesh\\Documents\\GitHub\\Python_Assignmnets_Pracitice\\DSA BASICS\\stack implementayion.ipynb Cell 5\u001b[0m line \u001b[0;36m<cell line: 1>\u001b[1;34m()\u001b[0m\n\u001b[1;32m----> <a href='vscode-notebook-cell:/c%3A/Users/Ganesh/Documents/GitHub/Python_Assignmnets_Pracitice/DSA%20BASICS/stack%20implementayion.ipynb#X11sZmlsZQ%3D%3D?line=0'>1</a>\u001b[0m obj\u001b[39m.\u001b[39;49mpeek()\n",
      "\u001b[1;32mc:\\Users\\Ganesh\\Documents\\GitHub\\Python_Assignmnets_Pracitice\\DSA BASICS\\stack implementayion.ipynb Cell 5\u001b[0m line \u001b[0;36mStack.peek\u001b[1;34m(self)\u001b[0m\n\u001b[0;32m     <a href='vscode-notebook-cell:/c%3A/Users/Ganesh/Documents/GitHub/Python_Assignmnets_Pracitice/DSA%20BASICS/stack%20implementayion.ipynb#X11sZmlsZQ%3D%3D?line=27'>28</a>\u001b[0m \u001b[39mdef\u001b[39;00m \u001b[39mpeek\u001b[39m(\u001b[39mself\u001b[39m):\n\u001b[1;32m---> <a href='vscode-notebook-cell:/c%3A/Users/Ganesh/Documents/GitHub/Python_Assignmnets_Pracitice/DSA%20BASICS/stack%20implementayion.ipynb#X11sZmlsZQ%3D%3D?line=28'>29</a>\u001b[0m     \u001b[39mif\u001b[39;00m \u001b[39mself\u001b[39;49m\u001b[39m.\u001b[39;49mstack\u001b[39m.\u001b[39;49mis_empty():\n\u001b[0;32m     <a href='vscode-notebook-cell:/c%3A/Users/Ganesh/Documents/GitHub/Python_Assignmnets_Pracitice/DSA%20BASICS/stack%20implementayion.ipynb#X11sZmlsZQ%3D%3D?line=29'>30</a>\u001b[0m         \u001b[39mprint\u001b[39m(\u001b[39m\"\u001b[39m\u001b[39mstack is empty\u001b[39m\u001b[39m\"\u001b[39m)\n\u001b[0;32m     <a href='vscode-notebook-cell:/c%3A/Users/Ganesh/Documents/GitHub/Python_Assignmnets_Pracitice/DSA%20BASICS/stack%20implementayion.ipynb#X11sZmlsZQ%3D%3D?line=30'>31</a>\u001b[0m     \u001b[39melse\u001b[39;00m:\n",
      "\u001b[1;31mAttributeError\u001b[0m: 'Array' object has no attribute 'is_empty'"
     ]
    }
   ],
   "source": [
    "obj.peek()"
   ]
  },
  {
   "cell_type": "code",
   "execution_count": null,
   "metadata": {},
   "outputs": [],
   "source": []
  },
  {
   "cell_type": "code",
   "execution_count": null,
   "metadata": {},
   "outputs": [],
   "source": []
  },
  {
   "cell_type": "code",
   "execution_count": null,
   "metadata": {},
   "outputs": [],
   "source": []
  },
  {
   "cell_type": "code",
   "execution_count": null,
   "metadata": {},
   "outputs": [],
   "source": []
  },
  {
   "cell_type": "code",
   "execution_count": 17,
   "metadata": {},
   "outputs": [
    {
     "name": "stdout",
     "output_type": "stream",
     "text": [
      "added\n"
     ]
    }
   ],
   "source": [
    "obj.add(16)"
   ]
  },
  {
   "cell_type": "code",
   "execution_count": 18,
   "metadata": {},
   "outputs": [
    {
     "data": {
      "text/plain": [
       "[16]"
      ]
     },
     "execution_count": 18,
     "metadata": {},
     "output_type": "execute_result"
    }
   ],
   "source": [
    "obj.display()"
   ]
  },
  {
   "cell_type": "code",
   "execution_count": 19,
   "metadata": {},
   "outputs": [
    {
     "data": {
      "text/plain": [
       "0"
      ]
     },
     "execution_count": 19,
     "metadata": {},
     "output_type": "execute_result"
    }
   ],
   "source": [
    "obj.find(16)"
   ]
  },
  {
   "cell_type": "code",
   "execution_count": 14,
   "metadata": {},
   "outputs": [],
   "source": [
    "obj.remove_by_index(2)"
   ]
  }
 ],
 "metadata": {
  "kernelspec": {
   "display_name": "Python 3",
   "language": "python",
   "name": "python3"
  },
  "language_info": {
   "codemirror_mode": {
    "name": "ipython",
    "version": 3
   },
   "file_extension": ".py",
   "mimetype": "text/x-python",
   "name": "python",
   "nbconvert_exporter": "python",
   "pygments_lexer": "ipython3",
   "version": "3.10.4"
  },
  "orig_nbformat": 4
 },
 "nbformat": 4,
 "nbformat_minor": 2
}
