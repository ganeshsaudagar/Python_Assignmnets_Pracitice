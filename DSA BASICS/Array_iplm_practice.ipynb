{
 "cells": [
  {
   "cell_type": "code",
   "execution_count": 65,
   "metadata": {},
   "outputs": [
    {
     "data": {
      "text/plain": [
       "[]"
      ]
     },
     "execution_count": 65,
     "metadata": {},
     "output_type": "execute_result"
    }
   ],
   "source": [
    "class array:\n",
    "    def __init__(self,length):\n",
    "        self.array=[]\n",
    "        self.maxlength=length\n",
    "        self.size=0\n",
    "\n",
    "    def is_full(self):\n",
    "        if self.size==self.maxlength:\n",
    "            return True\n",
    "        else:\n",
    "            return False\n",
    "    \n",
    "\n",
    "    def add(self,element): \n",
    "        if self.is_full():\n",
    "            print(\"Array is full\")\n",
    "        else:\n",
    "            if self.size==0:\n",
    "                self.array.append(element)\n",
    "                self.size+=1\n",
    "                print(\"added\")\n",
    "            else:\n",
    "                if type(self.array[0])==type(element):\n",
    "                      self.array.append(element)\n",
    "                      self.size+=1\n",
    "                else:\n",
    "                    print(\"data type not matched\")\n",
    "\n",
    "    def display(self):\n",
    "         return self.array\n",
    "    \n",
    "    def remove(self,element):\n",
    "        if self.size>0:\n",
    "             \n",
    "            \n",
    "            self.array.remove(element)\n",
    "            self.size-=1\n",
    "        else:\n",
    "            print(\"not in the array\")\n",
    "\n",
    "    def update(self,index,element):\n",
    "        if index > self.size-1:\n",
    "            print(\"indexout of range\")\n",
    "        else:\n",
    "            self.array[index]=element\n",
    "            print(\"Array updated\")\n",
    "            return True\n",
    "\n",
    "    def find (self,element):\n",
    "        if element in self.array:\n",
    "            return self.array.index(element)\n",
    "        else:\n",
    "            print(\"element not present\")\n",
    "\n",
    "\n",
    "\n",
    "\n",
    "\n",
    "    \n",
    "obj=array(5)\n",
    "obj.display()\n",
    "\n",
    "            \n"
   ]
  },
  {
   "cell_type": "code",
   "execution_count": 68,
   "metadata": {},
   "outputs": [],
   "source": [
    "\n",
    "obj.add(15)"
   ]
  },
  {
   "cell_type": "code",
   "execution_count": 71,
   "metadata": {},
   "outputs": [
    {
     "data": {
      "text/plain": [
       "[15, 11, 15]"
      ]
     },
     "execution_count": 71,
     "metadata": {},
     "output_type": "execute_result"
    }
   ],
   "source": [
    "obj.display()"
   ]
  },
  {
   "cell_type": "code",
   "execution_count": 70,
   "metadata": {},
   "outputs": [
    {
     "name": "stdout",
     "output_type": "stream",
     "text": [
      "Array updated\n"
     ]
    },
    {
     "data": {
      "text/plain": [
       "True"
      ]
     },
     "execution_count": 70,
     "metadata": {},
     "output_type": "execute_result"
    }
   ],
   "source": [
    "obj.update(1,11)"
   ]
  },
  {
   "cell_type": "code",
   "execution_count": 72,
   "metadata": {},
   "outputs": [
    {
     "data": {
      "text/plain": [
       "0"
      ]
     },
     "execution_count": 72,
     "metadata": {},
     "output_type": "execute_result"
    }
   ],
   "source": [
    "obj.find(15)"
   ]
  }
 ],
 "metadata": {
  "kernelspec": {
   "display_name": "Python 3",
   "language": "python",
   "name": "python3"
  },
  "language_info": {
   "codemirror_mode": {
    "name": "ipython",
    "version": 3
   },
   "file_extension": ".py",
   "mimetype": "text/x-python",
   "name": "python",
   "nbconvert_exporter": "python",
   "pygments_lexer": "ipython3",
   "version": "3.10.4"
  },
  "orig_nbformat": 4
 },
 "nbformat": 4,
 "nbformat_minor": 2
}
