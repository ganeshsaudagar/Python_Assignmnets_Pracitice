{
 "cells": [
  {
   "cell_type": "code",
   "execution_count": 15,
   "metadata": {},
   "outputs": [
    {
     "name": "stdout",
     "output_type": "stream",
     "text": [
      "[]\n"
     ]
    }
   ],
   "source": [
    "\n",
    "class array:\n",
    "    def __init__(self,length):\n",
    "        self.array=[]                   #initialising an array\n",
    "        self.maxlength=length \n",
    "        self.size=0\n",
    "\n",
    "    def add_element(self,data):\n",
    "        if self.is_full_():\n",
    "            print(\"ARRAY IS FULL\")\n",
    "        else:\n",
    "            if self.size ==0:\n",
    "                self.array.append(data)\n",
    "            else:\n",
    "                  if type(data)==type(self.array[0]):\n",
    "                      self.array.append(data)\n",
    "                      self.size+=1\n",
    "                  else:\n",
    "                      print(\"data ntomatching\")\n",
    "    \n",
    "    def is_full_(self):\n",
    "        if self.size==self.maxlength:\n",
    "            return True\n",
    "        else:\n",
    "            return False\n",
    "        \n",
    "    def remove_element(self,data):\n",
    "        if self.size>0:\n",
    "            self.array.remove(data)\n",
    "            self.size-=1\n",
    "            print(\"added successfully\")\n",
    "        else:\n",
    "            print(\"\")\n",
    "\n",
    "    def display(self):\n",
    "        print(self.array)\n",
    "\n",
    "    def search_element(self,element):\n",
    "        if element in self.array:\n",
    "            return self.array.index(element)\n",
    "        else:\n",
    "            print(\"element no found\")\n",
    "            return False\n",
    "        \n",
    "    def update_element(self,index,element):\n",
    "        if self.size-1<index:\n",
    "\n",
    "            print(\"index out of range\")\n",
    "        else:\n",
    "\n",
    "            self.array[index]==element\n",
    "            \n",
    "obj=array(5)\n",
    "obj.display()\n",
    "\n",
    "\n"
   ]
  },
  {
   "cell_type": "code",
   "execution_count": 14,
   "metadata": {},
   "outputs": [],
   "source": [
    "obj.remove_element(5)"
   ]
  },
  {
   "cell_type": "code",
   "execution_count": 16,
   "metadata": {},
   "outputs": [
    {
     "name": "stdout",
     "output_type": "stream",
     "text": [
      "[5]\n"
     ]
    }
   ],
   "source": [
    "obj.add_element(5)\n",
    "obj.display()"
   ]
  },
  {
   "cell_type": "code",
   "execution_count": 17,
   "metadata": {},
   "outputs": [
    {
     "name": "stdout",
     "output_type": "stream",
     "text": [
      "[5, 'kareena']\n"
     ]
    }
   ],
   "source": [
    "obj.add_element(\"kareena\")\n",
    "obj.display()"
   ]
  },
  {
   "cell_type": "code",
   "execution_count": 3,
   "metadata": {},
   "outputs": [
    {
     "name": "stdout",
     "output_type": "stream",
     "text": [
      "<class 'list'>\n"
     ]
    }
   ],
   "source": [
    "lst=[1,2,3]\n",
    "print(type(lst))     #we"
   ]
  }
 ],
 "metadata": {
  "kernelspec": {
   "display_name": "Python 3",
   "language": "python",
   "name": "python3"
  },
  "language_info": {
   "codemirror_mode": {
    "name": "ipython",
    "version": 3
   },
   "file_extension": ".py",
   "mimetype": "text/x-python",
   "name": "python",
   "nbconvert_exporter": "python",
   "pygments_lexer": "ipython3",
   "version": "3.10.4"
  },
  "orig_nbformat": 4
 },
 "nbformat": 4,
 "nbformat_minor": 2
}
