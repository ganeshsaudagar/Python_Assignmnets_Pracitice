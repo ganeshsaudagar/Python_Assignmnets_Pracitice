{
 "cells": [
  {
   "cell_type": "markdown",
   "id": "790e0148",
   "metadata": {},
   "source": [
    "# ASSIGNMENT 1"
   ]
  },
  {
   "cell_type": "markdown",
   "id": "ac1c7d49",
   "metadata": {},
   "source": [
    "# 1. Create a null vector of size 10 but the fifth value which is 1."
   ]
  },
  {
   "cell_type": "code",
   "execution_count": 4,
   "id": "46ae6db5",
   "metadata": {},
   "outputs": [
    {
     "data": {
      "text/plain": [
       "array([0., 0., 0., 0., 0., 1., 0., 0., 0., 0.])"
      ]
     },
     "execution_count": 4,
     "metadata": {},
     "output_type": "execute_result"
    }
   ],
   "source": [
    "import numpy as np\n",
    "vector=np.zeros(10)\n",
    "vector[5]=1\n",
    "vector"
   ]
  },
  {
   "cell_type": "markdown",
   "id": "e7fb6fe7",
   "metadata": {},
   "source": [
    "# 2. Create a vector with values ranging from 10 to 49."
   ]
  },
  {
   "cell_type": "code",
   "execution_count": 5,
   "id": "51fbd3eb",
   "metadata": {},
   "outputs": [
    {
     "data": {
      "text/plain": [
       "array([10, 11, 12, 13, 14, 15, 16, 17, 18, 19, 20, 21, 22, 23, 24, 25, 26,\n",
       "       27, 28, 29, 30, 31, 32, 33, 34, 35, 36, 37, 38, 39, 40, 41, 42, 43,\n",
       "       44, 45, 46, 47, 48, 49])"
      ]
     },
     "execution_count": 5,
     "metadata": {},
     "output_type": "execute_result"
    }
   ],
   "source": [
    "vector1=np.arange(10,50)\n",
    "vector1"
   ]
  },
  {
   "cell_type": "markdown",
   "id": "af9800d7",
   "metadata": {},
   "source": [
    "# 3. Create a 3x3 matrix with values ranging from 0 to 8"
   ]
  },
  {
   "cell_type": "code",
   "execution_count": 9,
   "id": "b7a6b559",
   "metadata": {},
   "outputs": [
    {
     "data": {
      "text/plain": [
       "array([[0, 1, 2],\n",
       "       [3, 4, 5],\n",
       "       [6, 7, 8]])"
      ]
     },
     "execution_count": 9,
     "metadata": {},
     "output_type": "execute_result"
    }
   ],
   "source": [
    "matrix=np.arange(0,9).reshape(3,3)\n",
    "matrix"
   ]
  },
  {
   "cell_type": "markdown",
   "id": "ef962ba1",
   "metadata": {},
   "source": [
    "# 4. Find indices of non-zero elements from [1,2,0,0,4,0]"
   ]
  },
  {
   "cell_type": "code",
   "execution_count": 12,
   "id": "3d135863",
   "metadata": {},
   "outputs": [
    {
     "name": "stdout",
     "output_type": "stream",
     "text": [
      "[1 2 0 0 0 4 0]\n",
      "INDICES OF NON ZERO ELEMENTS ARE: (array([0, 1, 5], dtype=int64),)\n"
     ]
    }
   ],
   "source": [
    "array=np.array([1,2,0,0,0,4,0])\n",
    "\n",
    "print(array)\n",
    "indices=np.where(array!=0)\n",
    "print(\"INDICES OF NON ZERO ELEMENTS ARE:\",indices)"
   ]
  },
  {
   "cell_type": "markdown",
   "id": "9599f030",
   "metadata": {},
   "source": [
    "# 5. Create a 10x10 array with random values and find the minimum and maximum values."
   ]
  },
  {
   "cell_type": "code",
   "execution_count": 17,
   "id": "20cced74",
   "metadata": {},
   "outputs": [
    {
     "name": "stdout",
     "output_type": "stream",
     "text": [
      "[[0.71035865 0.90431565 0.75878902 0.72120717 0.25014508 0.93285917\n",
      "  0.66852696 0.20701471 0.96339319 0.01110208]\n",
      " [0.42961216 0.58452626 0.57388445 0.32721699 0.21281669 0.89543015\n",
      "  0.3259413  0.52928227 0.82770021 0.57793207]\n",
      " [0.46626087 0.9175064  0.41993371 0.05826258 0.62110465 0.08008894\n",
      "  0.70701428 0.336494   0.0203705  0.74182571]\n",
      " [0.28080324 0.1057585  0.06150509 0.80837257 0.83185659 0.95740299\n",
      "  0.24140319 0.46912681 0.45765686 0.20237007]\n",
      " [0.11329946 0.18677862 0.08696418 0.68950789 0.54037993 0.42662925\n",
      "  0.9894022  0.68654246 0.92025706 0.59174635]\n",
      " [0.11535362 0.11946886 0.52171573 0.88834291 0.81587351 0.84889353\n",
      "  0.12045471 0.7568233  0.78839583 0.64255797]\n",
      " [0.64236537 0.09881309 0.3787399  0.26123186 0.46107661 0.29469451\n",
      "  0.643895   0.11775366 0.47520575 0.63624865]\n",
      " [0.66919449 0.25957668 0.24979874 0.29386832 0.94194238 0.28010504\n",
      "  0.65726702 0.63961784 0.18204824 0.61116672]\n",
      " [0.88553523 0.0674957  0.57901605 0.06857579 0.20534286 0.90186647\n",
      "  0.98891404 0.92648439 0.50385489 0.28031434]\n",
      " [0.22538994 0.80892554 0.45563879 0.14329478 0.8604739  0.57818813\n",
      "  0.84052274 0.24456345 0.45791613 0.00387553]]\n",
      "minimum value of 10*10 array: 0.003875528110850013\n",
      "maximum value of 10*10 array: 0.9894021962885814\n"
     ]
    }
   ],
   "source": [
    "a=np.random.random((10,10))\n",
    "print(a)\n",
    "\n",
    "print(\"minimum value of 10*10 array:\",a.min())\n",
    "print(\"maximum value of 10*10 array:\",a.max())"
   ]
  },
  {
   "cell_type": "markdown",
   "id": "19335c53",
   "metadata": {},
   "source": [
    "# 6. Create a random vector of size 30 and find the mean value."
   ]
  },
  {
   "cell_type": "code",
   "execution_count": 21,
   "id": "8a968688",
   "metadata": {},
   "outputs": [
    {
     "name": "stdout",
     "output_type": "stream",
     "text": [
      "[0.47925901 0.13059917 0.58051206 0.20369081 0.35969291 0.29041735\n",
      " 0.32317918 0.87417136 0.00528783 0.24528991 0.07268817 0.35822812\n",
      " 0.8319099  0.15496706 0.25825517 0.89205154 0.01045429 0.84245353\n",
      " 0.26822029 0.46699091 0.02317378 0.48794748 0.71873501 0.82522084\n",
      " 0.55818225 0.02677544 0.12267548 0.85434283 0.14023713 0.78681317]\n",
      "MEAN VALUE: 0.4064140662788607\n"
     ]
    }
   ],
   "source": [
    "b=np.random.random(30)\n",
    "print(b)\n",
    "print(\"MEAN VALUE:\",b.mean())"
   ]
  },
  {
   "cell_type": "code",
   "execution_count": null,
   "id": "79306330",
   "metadata": {},
   "outputs": [],
   "source": []
  }
 ],
 "metadata": {
  "kernelspec": {
   "display_name": "Python 3 (ipykernel)",
   "language": "python",
   "name": "python3"
  },
  "language_info": {
   "codemirror_mode": {
    "name": "ipython",
    "version": 3
   },
   "file_extension": ".py",
   "mimetype": "text/x-python",
   "name": "python",
   "nbconvert_exporter": "python",
   "pygments_lexer": "ipython3",
   "version": "3.10.4"
  }
 },
 "nbformat": 4,
 "nbformat_minor": 5
}
